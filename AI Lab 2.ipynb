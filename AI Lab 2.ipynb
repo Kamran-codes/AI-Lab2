{
  "nbformat": 4,
  "nbformat_minor": 0,
  "metadata": {
    "colab": {
      "provenance": []
    },
    "kernelspec": {
      "name": "python3",
      "display_name": "Python 3"
    },
    "language_info": {
      "name": "python"
    }
  },
  "cells": [
    {
      "cell_type": "markdown",
      "source": [
        "Task 1: NumPy Array Creation."
      ],
      "metadata": {
        "id": "UI3c4zTOap5V"
      }
    },
    {
      "cell_type": "markdown",
      "source": [
        "1.1.1 Create a 1D array of numbers from 0 to 9"
      ],
      "metadata": {
        "id": "AaNjdo2HbDZR"
      }
    },
    {
      "cell_type": "code",
      "source": [
        "import numpy as np\n",
        "\n",
        "# Create a 1D array from 0 to 9\n",
        "array_1d = np.arange(10)\n",
        "print(\"1D Array from 0 to 9:\\n\", array_1d)\n"
      ],
      "metadata": {
        "colab": {
          "base_uri": "https://localhost:8080/"
        },
        "id": "Fx8tb7KBbG0p",
        "outputId": "75dbb329-5de7-4040-8c34-9a1de451a614"
      },
      "execution_count": 1,
      "outputs": [
        {
          "output_type": "stream",
          "name": "stdout",
          "text": [
            "1D Array from 0 to 9:\n",
            " [0 1 2 3 4 5 6 7 8 9]\n"
          ]
        }
      ]
    },
    {
      "cell_type": "markdown",
      "source": [
        "1.2.1 Create a 2D array with shape (3, 3), where values range from 1 to 9"
      ],
      "metadata": {
        "id": "8ycaC0RIb6TP"
      }
    },
    {
      "cell_type": "code",
      "source": [
        "import numpy as np\n",
        "\n",
        "# Create a 2D array with values from 1 to 9\n",
        "array_2d = np.arange(1, 10).reshape(3, 3)\n",
        "print(\"2D Array with values from 1 to 9:\\n\", array_2d)\n"
      ],
      "metadata": {
        "colab": {
          "base_uri": "https://localhost:8080/"
        },
        "id": "tBfbdWnNb8E5",
        "outputId": "5420c403-a969-4cfc-f620-9c189897037d"
      },
      "execution_count": 2,
      "outputs": [
        {
          "output_type": "stream",
          "name": "stdout",
          "text": [
            "2D Array with values from 1 to 9:\n",
            " [[1 2 3]\n",
            " [4 5 6]\n",
            " [7 8 9]]\n"
          ]
        }
      ]
    },
    {
      "cell_type": "markdown",
      "source": [
        "1.3.1 Create a 3D array of shape (2, 3, 4) filled with random integers from 1 to 100"
      ],
      "metadata": {
        "id": "WtJFXSfpb_hN"
      }
    },
    {
      "cell_type": "code",
      "source": [
        "import numpy as np\n",
        "\n",
        "# Create a 3D array with random integers from 1 to 100\n",
        "array_3d = np.random.randint(1, 101, size=(2, 3, 4))\n",
        "print(\"3D Array of shape (2, 3, 4) with random integers from 1 to 100:\\n\", array_3d)\n"
      ],
      "metadata": {
        "colab": {
          "base_uri": "https://localhost:8080/"
        },
        "id": "B1PvfZ9acBWu",
        "outputId": "7ad437a5-d11e-404c-bf2b-00f5ff71a42d"
      },
      "execution_count": 3,
      "outputs": [
        {
          "output_type": "stream",
          "name": "stdout",
          "text": [
            "3D Array of shape (2, 3, 4) with random integers from 1 to 100:\n",
            " [[[ 60  56  48  35]\n",
            "  [ 53  13   6  22]\n",
            "  [ 34  83  23 100]]\n",
            "\n",
            " [[ 81  32  29  36]\n",
            "  [ 98   8  53  44]\n",
            "  [ 42  12  22  75]]]\n"
          ]
        }
      ]
    },
    {
      "cell_type": "markdown",
      "source": [
        "Task 2: Array Indexing and Slicing"
      ],
      "metadata": {
        "id": "ZIO-iGX8cUl2"
      }
    },
    {
      "cell_type": "markdown",
      "source": [
        "Let's use the 2D and 3D arrays created in Task 1.\n",
        "\n"
      ],
      "metadata": {
        "id": "0oPRp9uhcWV2"
      }
    },
    {
      "cell_type": "code",
      "source": [
        "import numpy as np\n",
        "\n",
        "# Create a 2D array (3x3) with values from 1 to 9\n",
        "arr2 = np.arange(1, 10).reshape(3, 3)\n",
        "print(\"2D Array (arr2):\\n\", arr2)\n",
        "\n",
        "# Create a 3D array of shape (2, 3, 4) filled with random integers from 1 to 100\n",
        "arr3 = np.random.randint(1, 101, size=(2, 3, 4))\n",
        "print(\"\\n3D Array (arr3):\\n\", arr3)\n"
      ],
      "metadata": {
        "colab": {
          "base_uri": "https://localhost:8080/"
        },
        "id": "q4FZ3Qk0cXdz",
        "outputId": "5839ad81-b1f0-4b6c-df9c-afb5cbe79ddd"
      },
      "execution_count": 4,
      "outputs": [
        {
          "output_type": "stream",
          "name": "stdout",
          "text": [
            "2D Array (arr2):\n",
            " [[1 2 3]\n",
            " [4 5 6]\n",
            " [7 8 9]]\n",
            "\n",
            "3D Array (arr3):\n",
            " [[[62 85 26 47]\n",
            "  [ 6 72 38 31]\n",
            "  [99 92 16 45]]\n",
            "\n",
            " [[89 87 56 78]\n",
            "  [18 87  3 18]\n",
            "  [59 17 45 52]]]\n"
          ]
        }
      ]
    },
    {
      "cell_type": "markdown",
      "source": [
        "1.1.1 Given the array arr2 from Task 1, extract the second row:"
      ],
      "metadata": {
        "id": "Ml-Bsbz-cjHV"
      }
    },
    {
      "cell_type": "code",
      "source": [
        "# Extract the second row from arr2\n",
        "second_row = arr2[1]  # Indexing starts from 0, so row 1 is the second row\n",
        "print(\"\\nSecond row of arr2:\\n\", second_row)\n"
      ],
      "metadata": {
        "colab": {
          "base_uri": "https://localhost:8080/"
        },
        "id": "y3kPFpAIcrUD",
        "outputId": "73cce4ab-5e54-416c-8688-2b1563f64181"
      },
      "execution_count": 5,
      "outputs": [
        {
          "output_type": "stream",
          "name": "stdout",
          "text": [
            "\n",
            "Second row of arr2:\n",
            " [4 5 6]\n"
          ]
        }
      ]
    },
    {
      "cell_type": "markdown",
      "source": [
        "1.2.1 Extract the element at the 3rd row and 2nd column of arr2:"
      ],
      "metadata": {
        "id": "hem7aEfvcxxd"
      }
    },
    {
      "cell_type": "code",
      "source": [
        "# Extract the element at the 3rd row and 2nd column\n",
        "element_3rd_row_2nd_col = arr2[2, 1]  # Index starts from 0, so [2, 1] is 3rd row, 2nd column\n",
        "print(\"\\nElement at 3rd row, 2nd column in arr2:\", element_3rd_row_2nd_col)\n"
      ],
      "metadata": {
        "colab": {
          "base_uri": "https://localhost:8080/"
        },
        "id": "DR1WucwNczdE",
        "outputId": "011b4b04-effc-47fa-ee2c-8dfdd46692e5"
      },
      "execution_count": 6,
      "outputs": [
        {
          "output_type": "stream",
          "name": "stdout",
          "text": [
            "\n",
            "Element at 3rd row, 2nd column in arr2: 8\n"
          ]
        }
      ]
    },
    {
      "cell_type": "markdown",
      "source": [
        "1.3.1 Extract all elements from the 3D array arr3 at the first index (0th layer):"
      ],
      "metadata": {
        "id": "S64teAfCc1W8"
      }
    },
    {
      "cell_type": "code",
      "source": [
        "# Extract all elements from the 0th layer of arr3\n",
        "first_layer_arr3 = arr3[0]  # The 0th layer\n",
        "print(\"\\nElements from the 0th layer of arr3:\\n\", first_layer_arr3)\n"
      ],
      "metadata": {
        "colab": {
          "base_uri": "https://localhost:8080/"
        },
        "id": "kjDq5pqqc2jU",
        "outputId": "245434ae-9e04-4946-a6c4-336346adf4d4"
      },
      "execution_count": 7,
      "outputs": [
        {
          "output_type": "stream",
          "name": "stdout",
          "text": [
            "\n",
            "Elements from the 0th layer of arr3:\n",
            " [[62 85 26 47]\n",
            " [ 6 72 38 31]\n",
            " [99 92 16 45]]\n"
          ]
        }
      ]
    },
    {
      "cell_type": "markdown",
      "source": [
        "Task 3: Array Reshaping"
      ],
      "metadata": {
        "id": "oWa1L3dFdCRF"
      }
    },
    {
      "cell_type": "markdown",
      "source": [
        "1.1.1 Reshape the 1D array from Task 1 into a 2x5 2D array"
      ],
      "metadata": {
        "id": "oPMmcdUadjCB"
      }
    },
    {
      "cell_type": "code",
      "source": [
        "import numpy as np\n",
        "\n",
        "# Create the 1D array from 0 to 9 (as in Task 1)\n",
        "array_1d = np.arange(10)\n",
        "print(\"Original 1D Array:\\n\", array_1d)\n",
        "\n",
        "# Reshape the 1D array into a 2x5 2D array\n",
        "array_2x5 = array_1d.reshape(2, 5)\n",
        "print(\"\\nReshaped 2x5 Array:\\n\", array_2x5)\n"
      ],
      "metadata": {
        "colab": {
          "base_uri": "https://localhost:8080/"
        },
        "id": "UHtLIAyNdkXA",
        "outputId": "a99d8631-2ac4-4a65-a018-f965587644ea"
      },
      "execution_count": 8,
      "outputs": [
        {
          "output_type": "stream",
          "name": "stdout",
          "text": [
            "Original 1D Array:\n",
            " [0 1 2 3 4 5 6 7 8 9]\n",
            "\n",
            "Reshaped 2x5 Array:\n",
            " [[0 1 2 3 4]\n",
            " [5 6 7 8 9]]\n"
          ]
        }
      ]
    },
    {
      "cell_type": "markdown",
      "source": [
        "Task 4: Mathematical Operations on Arrays"
      ],
      "metadata": {
        "id": "upxkgZuKeCKN"
      }
    },
    {
      "cell_type": "markdown",
      "source": [
        "We will use the arrays created in Task 1 for these operations."
      ],
      "metadata": {
        "id": "VBQQfANGeDlW"
      }
    },
    {
      "cell_type": "code",
      "source": [
        "import numpy as np\n",
        "\n",
        "# arr1: 1D array from Task 1 (0 to 9)\n",
        "arr1 = np.arange(10)\n",
        "\n",
        "# arr2: 2D array from Task 1 (3x3 matrix with values from 1 to 9)\n",
        "arr2 = np.arange(1, 10).reshape(3, 3)\n",
        "\n",
        "print(\"Original 1D Array (arr1):\\n\", arr1)\n",
        "print(\"\\nOriginal 2D Array (arr2):\\n\", arr2)\n"
      ],
      "metadata": {
        "colab": {
          "base_uri": "https://localhost:8080/"
        },
        "id": "dhLEns74eFDM",
        "outputId": "41b34662-8ebc-46c8-b5d8-ac1f7ba84cb2"
      },
      "execution_count": 9,
      "outputs": [
        {
          "output_type": "stream",
          "name": "stdout",
          "text": [
            "Original 1D Array (arr1):\n",
            " [0 1 2 3 4 5 6 7 8 9]\n",
            "\n",
            "Original 2D Array (arr2):\n",
            " [[1 2 3]\n",
            " [4 5 6]\n",
            " [7 8 9]]\n"
          ]
        }
      ]
    },
    {
      "cell_type": "markdown",
      "source": [
        "1.2.1 Add 10 to each element of arr1"
      ],
      "metadata": {
        "id": "vlo3Mst3eOEU"
      }
    },
    {
      "cell_type": "markdown",
      "source": [
        "# Add 10 to each element of arr1\n",
        "arr1_added = arr1 + 10\n",
        "print(\"\\narr1 after adding 10 to each element:\\n\", arr1_added)\n"
      ],
      "metadata": {
        "id": "WYIUvHa1eQaJ"
      }
    },
    {
      "cell_type": "markdown",
      "source": [
        "1.3.1 Multiply each element of arr2 by 2"
      ],
      "metadata": {
        "id": "GhLxMa75eRuY"
      }
    },
    {
      "cell_type": "code",
      "source": [
        "# Multiply each element of arr2 by 2\n",
        "arr2_multiplied = arr2 * 2\n",
        "print(\"\\narr2 after multiplying each element by 2:\\n\", arr2_multiplied)\n"
      ],
      "metadata": {
        "id": "qpgcm7JMeTZf"
      },
      "execution_count": null,
      "outputs": []
    },
    {
      "cell_type": "markdown",
      "source": [
        "## **Lab Task: Data Visualization with Matplotlib **\n",
        "\n"
      ],
      "metadata": {
        "id": "5_54SYnUeVc0"
      }
    },
    {
      "cell_type": "markdown",
      "source": [
        "# **Task 1: Basic Line Plot **"
      ],
      "metadata": {
        "id": "ZZ-hqL5Men5v"
      }
    },
    {
      "cell_type": "markdown",
      "source": [
        "1.1.1 Create a basic line plot for the following data points:"
      ],
      "metadata": {
        "id": "QGCkCjC7e1yE"
      }
    },
    {
      "cell_type": "code",
      "source": [
        "import matplotlib.pyplot as plt\n",
        "\n",
        "# Data points\n",
        "x = [1, 2, 3, 4, 5]\n",
        "y = [2, 4, 6, 8, 10]\n",
        "\n",
        "# Create a basic line plot\n",
        "plt.plot(x, y, marker='o', linestyle='-', color='b')\n",
        "\n",
        "# Add labels to the axes\n",
        "plt.xlabel('X-axis')\n",
        "plt.ylabel('Y-axis')\n",
        "\n",
        "# Add a title\n",
        "plt.title('Basic Line Plot')\n",
        "\n",
        "# Add grid lines\n",
        "plt.grid(True)\n",
        "\n",
        "# Show the plot\n",
        "plt.show()\n"
      ],
      "metadata": {
        "colab": {
          "base_uri": "https://localhost:8080/",
          "height": 472
        },
        "id": "-KlzXF87e-PI",
        "outputId": "6e413d40-2b08-4de7-c4a0-716f183ff1e3"
      },
      "execution_count": 10,
      "outputs": [
        {
          "output_type": "display_data",
          "data": {
            "text/plain": [
              "<Figure size 640x480 with 1 Axes>"
            ],
            "image/png": "[encoded data removed]"
          },
          "metadata": {}
        }
      ]
    },
    {
      "cell_type": "markdown",
      "source": [
        "# Task 2: Scatter Plot"
      ],
      "metadata": {
        "id": "hkcaITEpfU5b"
      }
    },
    {
      "cell_type": "markdown",
      "source": [
        "1.2.1 Create a scatter plot using the following data points:"
      ],
      "metadata": {
        "id": "w5SLMxQtfp5f"
      }
    },
    {
      "cell_type": "code",
      "source": [
        "import matplotlib.pyplot as plt\n",
        "\n",
        "# Data points\n",
        "x = [5, 7, 8, 7, 2, 17, 2, 9, 4, 11]\n",
        "y = [99, 86, 87, 88, 100, 86, 103, 87, 94, 78]\n",
        "\n",
        "# Create a scatter plot\n",
        "plt.scatter(x, y, color='r', s=100, marker='o')  # 'r' for red color, size 100, 'o' for circle marker\n",
        "\n",
        "# Add labels to the axes\n",
        "plt.xlabel('X-axis')\n",
        "plt.ylabel('Y-axis')\n",
        "\n",
        "# Add a title\n",
        "plt.title('Scatter Plot with Custom Markers')\n",
        "\n",
        "# Show the plot\n",
        "plt.show()\n"
      ],
      "metadata": {
        "colab": {
          "base_uri": "https://localhost:8080/",
          "height": 472
        },
        "id": "oHSTXol-frCE",
        "outputId": "2467dee3-80e5-4ea5-894a-0eef37673520"
      },
      "execution_count": 11,
      "outputs": [
        {
          "output_type": "display_data",
          "data": {
            "text/plain": [
              "<Figure size 640x480 with 1 Axes>"
            ],
            "image/png": "[encoded data removed]"
          },
          "metadata": {}
        }
      ]
    },
    {
      "cell_type": "markdown",
      "source": [
        "# Task 3: Bar Plot"
      ],
      "metadata": {
        "id": "jLcNOas_gCtB"
      }
    },
    {
      "cell_type": "markdown",
      "source": [
        "1.3.1 Create a bar plot with the following categories and values:"
      ],
      "metadata": {
        "id": "BCwfEMqlgHB9"
      }
    },
    {
      "cell_type": "code",
      "source": [
        "import matplotlib.pyplot as plt\n",
        "\n",
        "# Data\n",
        "categories = ['A', 'B', 'C', 'D', 'E']\n",
        "values = [5, 7, 3, 8, 6]\n",
        "\n",
        "# Colors for each category\n",
        "colors = ['blue', 'green', 'red', 'purple', 'orange']\n",
        "\n",
        "# Create a bar plot\n",
        "plt.bar(categories, values, color=colors)\n",
        "\n",
        "# Add labels to the axes\n",
        "plt.xlabel('Categories')\n",
        "plt.ylabel('Values')\n",
        "\n",
        "# Add a title\n",
        "plt.title('Bar Plot with Custom Colors')\n",
        "\n",
        "# Show the plot\n",
        "plt.show()\n"
      ],
      "metadata": {
        "colab": {
          "base_uri": "https://localhost:8080/",
          "height": 472
        },
        "id": "KaKUZKddgNIx",
        "outputId": "f2e70c0d-f9a8-4679-e108-9b778de84ea2"
      },
      "execution_count": 12,
      "outputs": [
        {
          "output_type": "display_data",
          "data": {
            "text/plain": [
              "<Figure size 640x480 with 1 Axes>"
            ],
            "image/png": "[encoded data removed]"
          },
          "metadata": {}
        }
      ]
    },
    {
      "cell_type": "markdown",
      "source": [
        "# Task 4: Histogram"
      ],
      "metadata": {
        "id": "PxKBipg_gbW9"
      }
    },
    {
      "cell_type": "markdown",
      "source": [
        "1.4.1 Generate a histogram for a dataset containing random numbers:"
      ],
      "metadata": {
        "id": "palTWlKqgcx9"
      }
    },
    {
      "cell_type": "code",
      "source": [
        "import numpy as np\n",
        "import matplotlib.pyplot as plt\n",
        "\n",
        "# Generate a dataset of 1000 random numbers from a standard normal distribution\n",
        "data = np.random.randn(1000)\n",
        "\n",
        "# Create a histogram with 30 bins and customize the color of the bars\n",
        "plt.hist(data, bins=30, color='skyblue', edgecolor='black')\n",
        "\n",
        "# Add labels to the axes\n",
        "plt.xlabel('Value')\n",
        "plt.ylabel('Frequency')\n",
        "\n",
        "# Add a title\n",
        "plt.title('Histogram of Random Numbers')\n",
        "\n",
        "# Show the plot\n",
        "plt.show()\n"
      ],
      "metadata": {
        "colab": {
          "base_uri": "https://localhost:8080/",
          "height": 472
        },
        "id": "EwWkigtGgdyu",
        "outputId": "b7115d1e-aee8-4011-d066-23a2621a2d7d"
      },
      "execution_count": 14,
      "outputs": [
        {
          "output_type": "display_data",
          "data": {
            "text/plain": [
              "<Figure size 640x480 with 1 Axes>"
            ],
            "image/png": "[encoded data removed]"
          },
          "metadata": {}
        }
      ]
    },
    {
      "cell_type": "markdown",
      "source": [
        "# Task 5: Pie Chart"
      ],
      "metadata": {
        "id": "DQM0OHNwgrIL"
      }
    },
    {
      "cell_type": "markdown",
      "source": [
        "1.5.1 Create a pie chart for the following data:"
      ],
      "metadata": {
        "id": "ile7dboaguBR"
      }
    },
    {
      "cell_type": "code",
      "source": [
        "import matplotlib.pyplot as plt\n",
        "\n",
        "# Data for the pie chart\n",
        "labels = ['Python', 'Java', 'C++', 'JavaScript']\n",
        "sizes = [50, 25, 15, 10]\n",
        "\n",
        "# Explode the largest section (Python)\n",
        "explode = (0.1, 0, 0, 0)  # \"explode\" the 1st slice\n",
        "\n",
        "# Create the pie chart\n",
        "plt.pie(sizes, explode=explode, labels=labels, autopct='%1.1f%%', startangle=140, colors=['#ff9999','#66b3ff','#99ff99','#ffcc99'])\n",
        "\n",
        "# Equal aspect ratio ensures the pie chart is drawn as a circle\n",
        "plt.axis('equal')\n",
        "\n",
        "# Add a title\n",
        "plt.title('Programming Language Popularity')\n",
        "\n",
        "# Show the pie chart\n",
        "plt.show()\n"
      ],
      "metadata": {
        "colab": {
          "base_uri": "https://localhost:8080/",
          "height": 428
        },
        "id": "C97DvvnRgvZT",
        "outputId": "72cb8a17-5bdf-4547-8322-8482f0100665"
      },
      "execution_count": 13,
      "outputs": [
        {
          "output_type": "display_data",
          "data": {
            "text/plain": [
              "<Figure size 640x480 with 1 Axes>"
            ],
            "image/png": "[encoded data removed]"
          },
          "metadata": {}
        }
      ]
    }
  ]
}